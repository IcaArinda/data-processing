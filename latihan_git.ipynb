{
 "cells": [
  {
   "cell_type": "code",
   "execution_count": 1,
   "id": "821b59b3",
   "metadata": {},
   "outputs": [
    {
     "name": "stdout",
     "output_type": "stream",
     "text": [
      "hello my name ica\n"
     ]
    }
   ],
   "source": [
    "print ('hello my name ica')"
   ]
  },
  {
   "cell_type": "code",
   "execution_count": 1,
   "id": "efb90bf8",
   "metadata": {},
   "outputs": [
    {
     "name": "stdout",
     "output_type": "stream",
     "text": [
      "hai\n"
     ]
    }
   ],
   "source": [
    "print (\"hai\")"
   ]
  },
  {
   "cell_type": "code",
   "execution_count": 2,
   "id": "e38b2c4c",
   "metadata": {},
   "outputs": [
    {
     "name": "stdout",
     "output_type": "stream",
     "text": [
      "yess\n"
     ]
    }
   ],
   "source": [
    "print ('yess')"
   ]
  },
  {
   "cell_type": "code",
   "execution_count": null,
   "id": "3af9bd06",
   "metadata": {},
   "outputs": [],
   "source": []
  }
 ],
 "metadata": {
  "kernelspec": {
   "display_name": "Python 3 (ipykernel)",
   "language": "python",
   "name": "python3"
  },
  "language_info": {
   "codemirror_mode": {
    "name": "ipython",
    "version": 3
   },
   "file_extension": ".py",
   "mimetype": "text/x-python",
   "name": "python",
   "nbconvert_exporter": "python",
   "pygments_lexer": "ipython3",
   "version": "3.9.7"
  }
 },
 "nbformat": 4,
 "nbformat_minor": 5
}
